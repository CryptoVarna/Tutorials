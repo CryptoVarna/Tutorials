{
 "cells": [
  {
   "cell_type": "code",
   "execution_count": 106,
   "metadata": {
    "collapsed": true
   },
   "outputs": [],
   "source": [
    "import hashlib\n",
    "import time"
   ]
  },
  {
   "cell_type": "code",
   "execution_count": 162,
   "metadata": {
    "collapsed": false
   },
   "outputs": [],
   "source": [
    "DIFFICULTY = 2\n",
    "\n",
    "class Block:\n",
    "    \n",
    "    def __init__(self, prevHash, data):\n",
    "        self.prevHash = prevHash\n",
    "        self.timestamp = int(time.time())\n",
    "        self.nonce = 0\n",
    "        self.height = -1\n",
    "        self.data = data\n",
    "        self.mine()\n",
    "    \n",
    "    def __repr__(self):\n",
    "        return \"Block({}): {} ({})\\n\".format(self.height, self.getHash(), self.data)\n",
    "        \n",
    "    def buildHeader(self):\n",
    "        header = str(self.prevHash) + str(self.timestamp) + str(self.nonce) + str(self.data)\n",
    "        return header.encode(\"utf-8\")\n",
    "        \n",
    "    def getHash(self):\n",
    "        h = hashlib.sha256()\n",
    "        h.update(self.buildHeader())\n",
    "        return h.hexdigest()\n",
    "    \n",
    "    def isValid(self):\n",
    "        hs = str(self.getHash())\n",
    "        if hs[0:DIFFICULTY] != \"0\"*DIFFICULTY:\n",
    "            return False\n",
    "        return True\n",
    "    \n",
    "    def mine(self):\n",
    "        for self.nonce in range(0, 2**32):\n",
    "            if self.isValid():\n",
    "                break;\n",
    "\n",
    "        \n",
    "class Blockchain:\n",
    "    def __init__(self, genesisBlock):\n",
    "        genesisBlock.height = 0\n",
    "        self.mainchain = [genesisBlock]\n",
    "                          \n",
    "    def checkBlockValidity(self, block):\n",
    "        prevBlock = self.mainchain[-1]\n",
    "        if not block.isValid():\n",
    "            return False\n",
    "        if prevBlock.getHash() != block.prevHash:\n",
    "            return False\n",
    "        if block.timestamp < prevBlock.timestamp:\n",
    "            return False\n",
    "        return True\n",
    "        \n",
    "    def addBlock(self, block):\n",
    "        if not self.checkBlockValidity(block):\n",
    "            raise ValueError(\"Invalid block\")\n",
    "        block.height = len(self.mainchain)\n",
    "        self.mainchain.append(block)\n",
    "    \n",
    "    def createAndAddBlock(self, data):\n",
    "        prevBlock = self.mainchain[-1]\n",
    "        newBlock = Block(prevBlock.getHash(), data)\n",
    "        self.addBlock(newBlock)\n",
    "    \n",
    "    def __str__(self):\n",
    "        return ''.join(str(self.mainchain))\n"
   ]
  },
  {
   "cell_type": "code",
   "execution_count": 163,
   "metadata": {
    "collapsed": false
   },
   "outputs": [
    {
     "name": "stdout",
     "output_type": "stream",
     "text": [
      "[Block(0): 00b8bb982887e3f8f710865e8b03c947f67402f417fe6b7fcdf810f805990792 (My Genesis Block)\n",
      ", Block(1): 000809c37d37d20670f3f8f6684f3b58fd4256f9bab6d1358ac0527bbe93c7a7 (data-1)\n",
      ", Block(2): 0063a2477f5575b01cacb25d6e6dc549c13e3ec9a362013632d37ef917388745 (data-2)\n",
      ", Block(3): 008c2cf72ebdc0b949ec2e2d2f1ce6f0acaacb3f134707cee7d770950099b5a8 (data-3)\n",
      ", Block(4): 008afed66e0ad48442d883db0174b589426c8fbdf497ff93fdbeb635617f855b (data-4)\n",
      ", Block(5): 00a0ceaf51aa5e3fe1eddf1eb719d97ab26c46758105cc2fe2387c9d12576f1a (data-5)\n",
      ", Block(6): 003b6943a8965ec70547c16d4c3bfc3f1a4d0700c5001f0107120d103aa4bea6 (data-6)\n",
      ", Block(7): 002e26a285fb90f7ffcd8b7e171aadfda5e1b85b911bdd8cc2670b7b0311cca6 (data-7)\n",
      ", Block(8): 00a4f50cc6fec8671007edf199da9fec915ab2e265810d226ea7561786dcbb6d (data-8)\n",
      ", Block(9): 005cb443ea85b81f1047f06426236832abae279091b930a1c45334832d5260dc (data-9)\n",
      ", Block(10): 003f9fbe34e0269ea4f27adde46a0414598ca40564b582b5921298d38cc7c3c7 (data-10)\n",
      ", Block(11): 00d03d1678a17e3987744bcd816810e8c9ed259b0d73992b1b2a63531a5599a7 (data-11)\n",
      ", Block(12): 00500ed325b7e4a3a3d246974acfdece8d5f7f00f5e8c892de0a420193dc162f (data-12)\n",
      ", Block(13): 0073bd194267cdb8783a5eef7ccd748b4e94ecbf390f7b83711dac7ec7971f3b (data-13)\n",
      ", Block(14): 0050a5541e74598834eb6335e22032fc73ec87786f352ae10783ce422b29f728 (data-14)\n",
      ", Block(15): 00985c47ca76a14d1b3fa53dfa2c256ecd4d101d6f446a8b37df115eea14c754 (data-15)\n",
      ", Block(16): 009e73743949ff3565eb15c7d4daaa561e5b8c1d0996600ccdf8e71fb1346da0 (data-16)\n",
      ", Block(17): 005a145b0c93710abc1d445b477b62269114ee71903f3c6c065e203ee03a2608 (data-17)\n",
      ", Block(18): 00270c462b745025817eb4335c2d08bf2bbe7e73c8eb518cdfff53dc990619a2 (data-18)\n",
      ", Block(19): 0061879e9237d56c1ccdeb254fafc3a345da03d5857e69af42401f46afce5f0d (data-19)\n",
      "]\n"
     ]
    }
   ],
   "source": [
    "genesisBlock = Block(0, \"My Genesis Block\")\n",
    "bc = Blockchain(genesisBlock)\n",
    "\n",
    "for i in range(1, 20):\n",
    "    bc.createAndAddBlock(\"data-{}\".format(i))\n",
    "print(bc)"
   ]
  }
 ],
 "metadata": {
  "kernelspec": {
   "display_name": "Python [default]",
   "language": "python",
   "name": "python3"
  },
  "language_info": {
   "codemirror_mode": {
    "name": "ipython",
    "version": 3
   },
   "file_extension": ".py",
   "mimetype": "text/x-python",
   "name": "python",
   "nbconvert_exporter": "python",
   "pygments_lexer": "ipython3",
   "version": "3.6.0"
  }
 },
 "nbformat": 4,
 "nbformat_minor": 2
}
