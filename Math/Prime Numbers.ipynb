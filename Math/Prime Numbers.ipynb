{
 "cells": [
  {
   "cell_type": "markdown",
   "metadata": {},
   "source": [
    "# Definition\n",
    "*A prime number (or a prime) is a natural number greater than 1 that has no positive divisors other than 1 and itself. A natural number greater than 1 that is not a prime number is called a composite number.*"
   ]
  },
  {
   "cell_type": "markdown",
   "metadata": {},
   "source": [
    "# Testing primality and integer factorization\n",
    "\n",
    "## Trial division"
   ]
  },
  {
   "cell_type": "code",
   "execution_count": 2,
   "metadata": {
    "collapsed": true
   },
   "outputs": [],
   "source": [
    "limit = 20"
   ]
  },
  {
   "cell_type": "code",
   "execution_count": 3,
   "metadata": {
    "scrolled": false
   },
   "outputs": [
    {
     "name": "stdout",
     "output_type": "stream",
     "text": [
      "1 isn't a prime\n",
      "2 is a prime\n",
      "3 is a prime\n",
      "4 isn't a prime\n",
      "5 is a prime\n",
      "6 isn't a prime\n",
      "7 is a prime\n",
      "8 isn't a prime\n",
      "9 isn't a prime\n",
      "10 isn't a prime\n",
      "11 is a prime\n",
      "12 isn't a prime\n",
      "13 is a prime\n",
      "14 isn't a prime\n",
      "15 isn't a prime\n",
      "16 isn't a prime\n",
      "17 is a prime\n",
      "18 isn't a prime\n",
      "19 is a prime\n"
     ]
    }
   ],
   "source": [
    "def is_prime(n):\n",
    "    if n <= 1: return False\n",
    "    if n <= 3: return True\n",
    "    if n % 2 == 0 or n % 3 == 0: return False\n",
    "    i = 5\n",
    "    while i*i <= n:\n",
    "        if n % i == 0 or n % (i + 2) == 0:\n",
    "            return False\n",
    "        i += 6\n",
    "    return True\n",
    "\n",
    "for num in range(1, limit):\n",
    "    print(\"{0} {1} a prime\".format(num, \"is\" if is_prime(num) else \"isn't\"))"
   ]
  },
  {
   "cell_type": "markdown",
   "metadata": {},
   "source": [
    "## Fermat primality test"
   ]
  },
  {
   "cell_type": "code",
   "execution_count": 4,
   "metadata": {},
   "outputs": [
    {
     "name": "stdout",
     "output_type": "stream",
     "text": [
      "1 may be prime\n",
      "2 may be prime\n",
      "3 may be prime\n",
      "4 is composite with Fermat witness 2\n",
      "5 may be prime\n",
      "6 is composite with Fermat witness 3\n",
      "7 may be prime\n",
      "8 is composite with Fermat witness 4\n",
      "9 is composite with Fermat witness 6\n",
      "10 is composite with Fermat witness 7\n",
      "11 may be prime\n",
      "12 is composite with Fermat witness 4\n",
      "13 may be prime\n",
      "14 is composite with Fermat witness 7\n",
      "15 is composite with Fermat witness 12\n",
      "16 is composite with Fermat witness 12\n",
      "17 may be prime\n",
      "18 is composite with Fermat witness 5\n",
      "19 may be prime\n"
     ]
    }
   ],
   "source": [
    "from random import randrange\n",
    "\n",
    "def is_composite(n, k=1):\n",
    "    \"\"\"Note that this function cannot prove a number is a prme though can prove it is a composite\"\"\"\n",
    "    if n <= 1: return False, 0\n",
    "    if n <= 3: return False, 0\n",
    "    while k >= 0:\n",
    "        a = randrange(2, n) # pick a random number 1 < a < n\n",
    "        if a ** (n-1) % n != 1:\n",
    "            return True, a\n",
    "        k -= 1\n",
    "    return False, a\n",
    "\n",
    "for num in range(1, limit):\n",
    "    ispr, base = is_composite(num, 20)\n",
    "    if ispr:\n",
    "        print(\"{0} is composite with Fermat witness {1}\".format(num, base))\n",
    "    else:\n",
    "        print(\"{0} may be prime\".format(num))"
   ]
  },
  {
   "cell_type": "markdown",
   "metadata": {},
   "source": [
    "## Sieve of Eratosthenes\n",
    "\n",
    "![Sieve](https://upload.wikimedia.org/wikipedia/commons/b/b9/Sieve_of_Eratosthenes_animation.gif)"
   ]
  },
  {
   "cell_type": "code",
   "execution_count": 5,
   "metadata": {},
   "outputs": [
    {
     "name": "stdout",
     "output_type": "stream",
     "text": [
      "0 - False\n",
      "1 - False\n",
      "2 - True\n",
      "3 - True\n",
      "4 - False\n",
      "5 - True\n",
      "6 - False\n",
      "7 - True\n",
      "8 - False\n",
      "9 - False\n",
      "10 - False\n",
      "11 - True\n",
      "12 - False\n",
      "13 - True\n",
      "14 - False\n",
      "15 - False\n",
      "16 - False\n",
      "17 - True\n",
      "18 - False\n",
      "19 - True\n"
     ]
    }
   ],
   "source": [
    "def prime_sieve(n):\n",
    "    sieve = [True]*n\n",
    "    sieve[0] = sieve[1] = False\n",
    "    i = 2\n",
    "    while i*i < n:\n",
    "        if sieve[i]:\n",
    "            j = 0\n",
    "            while i*i+j*i < n:\n",
    "                sieve[i*i+j*i] = False\n",
    "                j += 1\n",
    "        i += 1\n",
    "    return sieve\n",
    "\n",
    "for i,v in enumerate(prime_sieve(limit)):\n",
    "    print(\"{0} - {1}\".format(i,v))"
   ]
  },
  {
   "cell_type": "markdown",
   "metadata": {},
   "source": [
    "### Generator"
   ]
  },
  {
   "cell_type": "code",
   "execution_count": 6,
   "metadata": {},
   "outputs": [
    {
     "name": "stdout",
     "output_type": "stream",
     "text": [
      "[2, 3, 5, 7, 11, 13, 17, 19]\n"
     ]
    }
   ],
   "source": [
    "def prime_sieve_generator(n):\n",
    "    sieve = [True] * n\n",
    "    sieve[0] = sieve[1] = False\n",
    "    for i, isprime in enumerate(sieve):\n",
    "        if isprime:\n",
    "            yield i\n",
    "            for j in range(i*i, n, i):\n",
    "                sieve[j] = False\n",
    "                \n",
    "print([x for x in prime_sieve_generator(limit)])"
   ]
  },
  {
   "cell_type": "markdown",
   "metadata": {},
   "source": [
    "# References\n",
    "\n",
    "1. Wikipedia, \"Prime Numbers\", https://en.wikipedia.org/wiki/Prime_number\n",
    "2. Wikipedia, \"Primality test\", https://en.wikipedia.org/wiki/Primality_test"
   ]
  }
 ],
 "metadata": {
  "kernelspec": {
   "display_name": "Python [default]",
   "language": "python",
   "name": "python3"
  },
  "language_info": {
   "codemirror_mode": {
    "name": "ipython",
    "version": 3
   },
   "file_extension": ".py",
   "mimetype": "text/x-python",
   "name": "python",
   "nbconvert_exporter": "python",
   "pygments_lexer": "ipython3",
   "version": "3.6.1"
  }
 },
 "nbformat": 4,
 "nbformat_minor": 2
}
