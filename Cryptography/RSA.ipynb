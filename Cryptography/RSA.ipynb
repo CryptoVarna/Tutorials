{
 "cells": [
  {
   "cell_type": "markdown",
   "metadata": {},
   "source": [
    "# Definition\n",
    "\n",
    "The RSA algorithm involves four steps: key generation, key distribution, encryption and decryption.\n",
    "A basic principle behind RSA is the observation that it is practical to find three very large positive integers e, d and n such that with modular exponentiation for all integer m:\n",
    "\n",
    "$(m^{e})^{d}\\equiv m{\\pmod {n}}$\n",
    "\n",
    "and that even knowing e and n or even m it can be extremely difficult to find d.\n",
    "Additionally, for some operations it is convenient that the order of the two exponentiations can be changed and that this relation also implies:\n",
    "\n",
    "$(m^{d})^{e}\\equiv m{\\pmod {n}}$\n",
    "\n",
    "RSA involves a public key and a private key. The public key can be known by everyone and is used for encrypting messages. The intention is that messages encrypted with the public key can only be decrypted in a reasonable amount of time using the private key. The public key is represented by the integers n and e; and, the private key, by the integer d (although n is also used during the decryption process; so, it might be considered a part of the private key, too). m represents the message (previously prepared with certain technique explained below).\n",
    "\n",
    "## Key generation\n",
    "The keys for the RSA algorithm are generated the following way:\n",
    "\n",
    "1. Choose two distinct prime numbers p and q.\n",
    "    * For security purposes, the integers p and q should be chosen at random, and should be similar in magnitude but 'differ in length by a few digits'[2] to make factoring harder. Prime integers can be efficiently found using a primality test.\n",
    "1.Compute n = pq.\n",
    "    * n is used as the modulus for both the public and private keys. Its length, usually expressed in bits, is the key length.\n",
    "1. Compute λ(n) = lcm(λ(p), λ(q)) = lcm(p − 1, q − 1), where λ is Carmichael's totient function. This value is kept private.\n",
    "1. Choose an integer e such that 1 < e < λ(n) and gcd(e, λ(n)) = 1; i.e., e and λ(n) are coprime.\n",
    "1. Determine d as d ≡ e−1 (mod λ(n)); i.e., d is the modular multiplicative inverse of e (modulo λ(n)).\n",
    "    * This is more clearly stated as: solve for d given d⋅e ≡ 1 (mod λ(n)).\n",
    "    * e having a short bit-length and small Hamming weight results in more efficient encryption – most commonly e = 216 + 1 = 65,537. However, much smaller values of e (such as 3) have been shown to be less secure in some settings.[14]\n",
    "    * e is released as the public key exponent.\n",
    "    * d is kept as the private key exponent.\n"
   ]
  },
  {
   "cell_type": "code",
   "execution_count": 2,
   "metadata": {
    "collapsed": true
   },
   "outputs": [],
   "source": [
    "import secrets"
   ]
  },
  {
   "cell_type": "code",
   "execution_count": 3,
   "metadata": {
    "collapsed": true
   },
   "outputs": [],
   "source": [
    "import math\n",
    "\n",
    "\"\"\"\n",
    "Euler's totient function\n",
    "\"\"\"\n",
    "def phi(n):\n",
    "    count = 0\n",
    "    for i in range(1, n + 1):\n",
    "        if math.gcd(i, n) == 1:\n",
    "            count += 1\n",
    "    return count"
   ]
  },
  {
   "cell_type": "code",
   "execution_count": 4,
   "metadata": {
    "collapsed": true
   },
   "outputs": [],
   "source": [
    "def egcd(a, b):\n",
    "    if a == 0:\n",
    "        return (b, 0, 1)\n",
    "    else:\n",
    "        g, y, x = egcd(b % a, a)\n",
    "        return (g, x - (b // a) * y, y)\n",
    "\n",
    "def modinv(a, m):\n",
    "    g, x, y = egcd(a, m)\n",
    "    if g != 1:\n",
    "        raise Exception('modular inverse does not exist')\n",
    "    else:\n",
    "        return x % m"
   ]
  },
  {
   "cell_type": "code",
   "execution_count": null,
   "metadata": {
    "collapsed": false
   },
   "outputs": [],
   "source": [
    "# Load prime numbers from 0 to 100,000\n",
    "primes = []\n",
    "with open('primes-to-100k.txt') as f:\n",
    "    primes = [int(line.split()[0]) for line in f]\n",
    "\n",
    "RANGE = 10#len(primes)\n",
    "    \n",
    "# Choose two random primes p and q\n",
    "halflen = RANGE//2\n",
    "p = primes[secrets.randbelow(halflen)]\n",
    "q = primes[halflen+secrets.randbelow(halflen)]\n",
    "\n",
    "# Calculate modu\n",
    "n = p*q\n",
    "phi_n = (p-1)*(q-1)\n",
    "\n",
    "# Choose e (public key) such as 1 < e < phi_n\n",
    "e = phi_n\n",
    "while e >= phi_n or math.gcd(e, phi_n) != 1:\n",
    "    e = primes[1+secrets.randbelow(RANGE)]\n",
    "    \n",
    "# Calculate d (private key) such as de ≡ 1 (mod ϕ(n)) ie: de = 1 + kϕ(n)\n",
    "d = modinv(e, phi_n)\n",
    "\n",
    "# Encrypt number\n",
    "msg = 12\n",
    "enc = msg ** e % n\n",
    "dec = enc ** d % n\n",
    "\n",
    "print(msg, enc, dec)"
   ]
  },
  {
   "cell_type": "markdown",
   "metadata": {},
   "source": [
    "# References\n",
    "\n",
    "1. Wikipedia, \"RSA (cryptosystem)\", https://en.wikipedia.org/wiki/RSA_(cryptosystem)\n",
    "2. Art of the Problem, \"Public Key Cryptography: RSA Encryption Algorithm\", https://youtu.be/wXB-V_Keiu8"
   ]
  }
 ],
 "metadata": {
  "kernelspec": {
   "display_name": "Python [default]",
   "language": "python",
   "name": "python3"
  },
  "language_info": {
   "codemirror_mode": {
    "name": "ipython",
    "version": 3
   },
   "file_extension": ".py",
   "mimetype": "text/x-python",
   "name": "python",
   "nbconvert_exporter": "python",
   "pygments_lexer": "ipython3",
   "version": "3.6.0"
  }
 },
 "nbformat": 4,
 "nbformat_minor": 2
}
