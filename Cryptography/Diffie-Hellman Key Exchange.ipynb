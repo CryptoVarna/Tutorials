{
 "cells": [
  {
   "cell_type": "markdown",
   "metadata": {},
   "source": [
    "# Diffie–Hellman key exchange\n",
    "Diffie–Hellman key exchange is a method of securely exchanging cryptographic keys over a public channel and was one of the first public-key protocols as originally conceptualized by Ralph Merkle and named after Whitfield Diffie and Martin Hellman. D–H is one of the earliest practical examples of public key exchange implemented within the field of cryptography.\n",
    "\n",
    "## Cryptographic explanation\n",
    "The simplest and the original implementation of the protocol uses the multiplicative group of integers modulo p, where p is prime, and g is a primitive root modulo p. These two values are chosen in this way to ensure that the resulting shared secret can take on any value from 1 to p–1. Here is an example of the protocol, with non-secret values in blue, and secret values in red.\n",
    "\n",
    "1. Alice and Bob agree to use a modulus p = 23 and base g = 5 (which is a primitive root modulo 23).\n",
    "1. Alice chooses a secret integer a = 6, then sends Bob $A \\equiv g^a \\pmod p; A = 56 \\mod 23 = 8$\n",
    "1. Bob chooses a secret integer b = 15, then sends Alice $B \\equiv g^b \\pmod p; B = 515 \\mod 23 = 19$\n",
    "1. Alice computes $s \\equiv B^a \\pmod p; s = 196 \\mod 23 = 2$\n",
    "1. Bob computes $s \\equiv A^b \\pmod p; s = 815 \\mod 23 = 2$\n",
    "1. Alice and Bob now share a secret (the number 2)."
   ]
  },
  {
   "cell_type": "code",
   "execution_count": 57,
   "metadata": {
    "collapsed": true
   },
   "outputs": [],
   "source": [
    "import secrets\n",
    "from Crypto.Cipher import AES"
   ]
  },
  {
   "cell_type": "code",
   "execution_count": 58,
   "metadata": {
    "collapsed": true
   },
   "outputs": [],
   "source": [
    "KEY_BITS = 8\n",
    "\n",
    "# Both parties agree on the following values\n",
    "PRIME_MODULOS = 17\n",
    "GENERATOR = 3"
   ]
  },
  {
   "cell_type": "code",
   "execution_count": 59,
   "metadata": {
    "collapsed": true,
    "scrolled": true
   },
   "outputs": [],
   "source": [
    "class DiffieHellman:\n",
    "    \n",
    "    public_num = 0\n",
    "    \n",
    "    def __init__(self):\n",
    "        self.private_num = secrets.randbits(KEY_BITS)\n",
    "        self.public_num = GENERATOR ** self.private_num % PRIME_MODULOS\n",
    "    \n",
    "    def receivePublic(self, other_public):\n",
    "        self.private_key = other_public ** self.private_num % PRIME_MODULOS\n",
    "        self.private_key = self.private_key.to_bytes(16, 'big')\n",
    "        \n",
    "    def encodeMessage(self, msg):\n",
    "        cipher = AES.new(self.private_key, AES.MODE_ECB)\n",
    "        return cipher.encrypt(msg)"
   ]
  },
  {
   "cell_type": "code",
   "execution_count": 60,
   "metadata": {},
   "outputs": [
    {
     "data": {
      "text/plain": [
       "(\"Alice's public number is: \", 2)"
      ]
     },
     "execution_count": 60,
     "metadata": {},
     "output_type": "execute_result"
    }
   ],
   "source": [
    "alice = DiffieHellman()\n",
    "\"Alice's public number is: \", alice.public_num"
   ]
  },
  {
   "cell_type": "code",
   "execution_count": 61,
   "metadata": {},
   "outputs": [
    {
     "data": {
      "text/plain": [
       "(\"Bob's public number is: \", 1)"
      ]
     },
     "execution_count": 61,
     "metadata": {},
     "output_type": "execute_result"
    }
   ],
   "source": [
    "bob = DiffieHellman()\n",
    "\"Bob's public number is: \", bob.public_num"
   ]
  },
  {
   "cell_type": "code",
   "execution_count": 62,
   "metadata": {
    "collapsed": true
   },
   "outputs": [],
   "source": [
    "bob.receivePublic(alice.public_num)\n",
    "alice.receivePublic(bob.public_num)"
   ]
  },
  {
   "cell_type": "code",
   "execution_count": 66,
   "metadata": {},
   "outputs": [
    {
     "data": {
      "text/plain": [
       "(\"Alice's encrypted message is:\", '816772e3eddd61fb9d121b1d51c6393f')"
      ]
     },
     "execution_count": 66,
     "metadata": {},
     "output_type": "execute_result"
    }
   ],
   "source": [
    "alice_msg = alice.encodeMessage('A test message!!')\n",
    "\"Alice's encrypted message is:\", alice_msg.hex()"
   ]
  },
  {
   "cell_type": "code",
   "execution_count": 68,
   "metadata": {},
   "outputs": [
    {
     "data": {
      "text/plain": [
       "(\"Bob's encrypted message is:\", '816772e3eddd61fb9d121b1d51c6393f')"
      ]
     },
     "execution_count": 68,
     "metadata": {},
     "output_type": "execute_result"
    }
   ],
   "source": [
    "bob_msg = bob.encodeMessage('A test message!!')\n",
    "\"Bob's encrypted message is:\", bob_msg.hex()"
   ]
  },
  {
   "cell_type": "code",
   "execution_count": 71,
   "metadata": {},
   "outputs": [
    {
     "data": {
      "text/plain": [
       "True"
      ]
     },
     "execution_count": 71,
     "metadata": {},
     "output_type": "execute_result"
    }
   ],
   "source": [
    "alice_msg == bob_msg"
   ]
  },
  {
   "cell_type": "markdown",
   "metadata": {},
   "source": [
    "## Conclusion\n",
    "\n",
    "By revealing only the public number (and the generator and modulo) both parties have generated the same private key"
   ]
  },
  {
   "cell_type": "markdown",
   "metadata": {},
   "source": [
    "## References\n",
    "\n",
    "1. Wikipedia, \"Diffie–Hellman key exchange\", https://en.wikipedia.org/wiki/Diffie%E2%80%93Hellman_key_exchange\n",
    "1. YouTube, \"Art of the Problem\", https://www.youtube.com/watch?v=YEBfamv-_do"
   ]
  }
 ],
 "metadata": {
  "kernelspec": {
   "display_name": "Python [default]",
   "language": "python",
   "name": "python3"
  },
  "language_info": {
   "codemirror_mode": {
    "name": "ipython",
    "version": 3
   },
   "file_extension": ".py",
   "mimetype": "text/x-python",
   "name": "python",
   "nbconvert_exporter": "python",
   "pygments_lexer": "ipython3",
   "version": "3.6.1"
  }
 },
 "nbformat": 4,
 "nbformat_minor": 2
}
