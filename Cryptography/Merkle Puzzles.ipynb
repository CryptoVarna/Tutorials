{
 "cells": [
  {
   "cell_type": "markdown",
   "metadata": {},
   "source": [
    "# Merkle's Puzzles\n",
    "In cryptography, Merkle's puzzles is an early construction for a public-key cryptosystem, a protocol devised by Ralph Merkle in 1974 and published in 1978. It allows two parties to agree on a shared secret by exchanging messages, even if they have no secrets in common beforehand.\n",
    "\n",
    "## High Level Description\n",
    "1. Bob generates 2^N messages containing, \"This is message X. This is the symmetrical key, Y\", where X is an identifier, and Y is a secret key meant for symmetrical encryption. Both X and Y are unique to each message. All the messages are encrypted in a way such that a user may conduct a brute force attack on each message with some difficulty. Bob sends all the encrypted messages to Alice.\n",
    "1. Alice receives all the encrypted messages, and randomly chooses a single message to brute force. After Alice discovers both the identifier X and the secret key Y inside that message, she encrypts her clear text with the secret key Y, and sends that identifier (in cleartext) with her cipher text to Bob.\n",
    "1. Bob finds the secret key paired with that identifier, and deciphers Alice's cipher text with that secret key."
   ]
  },
  {
   "cell_type": "markdown",
   "metadata": {},
   "source": [
    "## Implementation\n",
    "\n",
    "Python implementation using [AES](https://en.wikipedia.org/wiki/Advanced_Encryption_Standard) for symmetric encryption and secret module for [CSPRNG](https://en.wikipedia.org/wiki/Cryptographically_secure_pseudorandom_number_generator). The key used for the encryption is just a 256bit random number. Also for simplicity AES is used in [ECB](https://en.wikipedia.org/wiki/Block_cipher_mode_of_operation) mode which is not recommended for secure systems."
   ]
  },
  {
   "cell_type": "code",
   "execution_count": 678,
   "metadata": {
    "collapsed": true
   },
   "outputs": [],
   "source": [
    "import secrets\n",
    "from Crypto.Cipher import AES"
   ]
  },
  {
   "cell_type": "markdown",
   "metadata": {},
   "source": [
    "Define some constants here. The puzzle difficulty is set to 8 bit which is very easy and in real system must be bigger.\n",
    "The complexity of the entire puzzle depends also on the number of messages generated because an adversary could be able to solve all the puzzles and to find the PID sent by Alice to Bob."
   ]
  },
  {
   "cell_type": "code",
   "execution_count": 679,
   "metadata": {
    "collapsed": true
   },
   "outputs": [],
   "source": [
    "PUZZLE_ID = b'AES Puzzle'\n",
    "PUZZLE_BYTES = 16 # 128 bits\n",
    "PUZZLE_DIFFICULTY = 8 # bits\n",
    "MESSAGES_NUM = 2 ** 10\n",
    "HASH_BYTES = 32 # 256 bits"
   ]
  },
  {
   "cell_type": "code",
   "execution_count": 680,
   "metadata": {
    "collapsed": true
   },
   "outputs": [],
   "source": [
    "keys = {}\n",
    "puzzles = []"
   ]
  },
  {
   "cell_type": "markdown",
   "metadata": {},
   "source": [
    "## Functions"
   ]
  },
  {
   "cell_type": "code",
   "execution_count": 681,
   "metadata": {
    "collapsed": true
   },
   "outputs": [],
   "source": [
    "\"\"\"\n",
    "This function pads a byte array to length of *16\n",
    "\"\"\"\n",
    "def pad16(b):\n",
    "    n = 16-len(b) % 16;\n",
    "    r = secrets.randbits(n*8).to_bytes(n, 'big')\n",
    "    return b + r"
   ]
  },
  {
   "cell_type": "code",
   "execution_count": 682,
   "metadata": {
    "collapsed": true
   },
   "outputs": [],
   "source": [
    "\"\"\"\n",
    "Creates a puzzle using AES cipher. Generates a random PUZZLE_DIFFICULTY bits which is filled up to PUZZLE_BYTES with zeros.\n",
    "Then PK is generated which will be the private key for the communication which only Alice and Bob will know. PID is generated\n",
    "to be the index of PK.\n",
    "\"\"\"\n",
    "def createPuzzle():\n",
    "    key = secrets.randbits(PUZZLE_DIFFICULTY).to_bytes(PUZZLE_BYTES, 'big')\n",
    "    cipher = AES.new(key, AES.MODE_ECB)\n",
    "    pid = secrets.randbits(HASH_BYTES*8).to_bytes(HASH_BYTES, 'big')\n",
    "    pk = secrets.randbits(HASH_BYTES*8).to_bytes(HASH_BYTES, 'big')\n",
    "    msg = PUZZLE_ID + pid + pk\n",
    "    puzzle = cipher.encrypt(pad16(msg))\n",
    "    \n",
    "    return puzzle, pid, pk"
   ]
  },
  {
   "cell_type": "code",
   "execution_count": 683,
   "metadata": {
    "collapsed": true
   },
   "outputs": [],
   "source": [
    "\"\"\"\n",
    "Attempt to brute force a puzzle. Returns PID and PK, as well as bool if successful\n",
    "\"\"\"\n",
    "def bruteForce(puzzle):\n",
    "    for i in range(0, 2 ** PUZZLE_DIFFICULTY):        \n",
    "        key = i.to_bytes(PUZZLE_BYTES, 'big')        \n",
    "        cipher = AES.new(key, AES.MODE_ECB)\n",
    "        msg = cipher.decrypt(puzzle)\n",
    "        if msg.find(PUZZLE_ID) == 0:\n",
    "            offset = len(PUZZLE_ID)\n",
    "            pid = msg[offset:offset+HASH_BYTES]\n",
    "            pk = msg[offset+HASH_BYTES:offset+HASH_BYTES*2]\n",
    "            return True, pid, pk\n",
    "    return False"
   ]
  },
  {
   "cell_type": "code",
   "execution_count": 684,
   "metadata": {
    "collapsed": true
   },
   "outputs": [],
   "source": [
    "\"\"\"\n",
    "Encrypts a message using private key PK. PID is appended to the message to be used as index from the other party.\n",
    "Message length is also included since the padding changes the original message\n",
    "\"\"\"\n",
    "def encryptMessage(pid, pk, msg):\n",
    "    cipher = AES.new(pk, AES.MODE_ECB)\n",
    "    msg_len = len(msg).to_bytes(4, 'big')\n",
    "    return pid + msg_len + cipher.encrypt(pad16(msg))"
   ]
  },
  {
   "cell_type": "code",
   "execution_count": 685,
   "metadata": {
    "collapsed": true
   },
   "outputs": [],
   "source": [
    "\"\"\"\n",
    "Decrypts a message. The message format must be PID + MESSAGE_LEN + AES(message)\n",
    "\"\"\"\n",
    "def descryptMessage(secret):\n",
    "    pid = secret[:HASH_BYTES]\n",
    "    msg_len = int.from_bytes(secret[HASH_BYTES:HASH_BYTES+4], 'big')\n",
    "    msg = secret[HASH_BYTES+4:]\n",
    "    pk = keys[pid] \n",
    "    cipher = AES.new(pk, AES.MODE_ECB)\n",
    "    decrypted = cipher.decrypt(msg)\n",
    "    return decrypted[:msg_len]"
   ]
  },
  {
   "cell_type": "markdown",
   "metadata": {},
   "source": [
    "## Example"
   ]
  },
  {
   "cell_type": "code",
   "execution_count": 686,
   "metadata": {},
   "outputs": [
    {
     "data": {
      "text/plain": [
       "'Bob has generated 1024 puzzles'"
      ]
     },
     "execution_count": 686,
     "metadata": {},
     "output_type": "execute_result"
    }
   ],
   "source": [
    "# 1. Bob generates 2^N messages \n",
    "for i in range(0, MESSAGES_NUM):\n",
    "    puzzle, pid, pk = createPuzzle()\n",
    "    keys[pid] = pk\n",
    "    puzzles.append(puzzle)\n",
    "'Bob has generated {} puzzles'.format(len(puzzles))"
   ]
  },
  {
   "cell_type": "code",
   "execution_count": 687,
   "metadata": {},
   "outputs": [
    {
     "data": {
      "text/plain": [
       "'Alice has chosen a puzzle: b4a751ec490fddb3b3c06f3e73c2aefb879c641b8c487c78fec07b57c91a61436bfb276d097def24335bd59bececc5a9e81fbd2503637280ba1d80f6799f3fbd216de3e42ce5f76a2fe9ede74388366f'"
      ]
     },
     "execution_count": 687,
     "metadata": {},
     "output_type": "execute_result"
    }
   ],
   "source": [
    "# 2. Alice receives all the encrypted messages, and randomly chooses a single message to brute force\n",
    "try_puzzle = secrets.choice(puzzles)\n",
    "'Alice has chosen a puzzle: ' + try_puzzle.hex()\n"
   ]
  },
  {
   "cell_type": "code",
   "execution_count": 688,
   "metadata": {},
   "outputs": [
    {
     "data": {
      "text/plain": [
       "'Alice has cracked the puzzle and found: PID:335cf2011426a1cdf7075f15a65b927a87cfe7ed107f0f0ab065e750434630c1 and PK:54253f2951d490cc11d975c6fa7710048a2b52e0f2f6cb33c656342bce94e132'"
      ]
     },
     "execution_count": 688,
     "metadata": {},
     "output_type": "execute_result"
    }
   ],
   "source": [
    "cracked, pid, pk = bruteForce(try_puzzle)\n",
    "if not cracked:\n",
    "    raise Error('Hmm, something went wrong')\n",
    "\n",
    "'Alice has cracked the puzzle and found: PID:{} and PK:{}'.format(pid.hex(), pk.hex())"
   ]
  },
  {
   "cell_type": "code",
   "execution_count": 689,
   "metadata": {},
   "outputs": [
    {
     "data": {
      "text/plain": [
       "'Alice has sent encrypted message to Bob sayng \"Hi Bob, this is secure channel\"'"
      ]
     },
     "execution_count": 689,
     "metadata": {},
     "output_type": "execute_result"
    }
   ],
   "source": [
    "secret = encryptMessage(pid, pk, b'Hi Bob, this is secure channel')\n",
    "'Alice has sent encrypted message to Bob sayng \"Hi Bob, this is secure channel\"'"
   ]
  },
  {
   "cell_type": "code",
   "execution_count": 734,
   "metadata": {},
   "outputs": [
    {
     "data": {
      "text/plain": [
       "'Bob has decrypted the message and it was: \"Hi Bob, this is secure channel\"'"
      ]
     },
     "execution_count": 734,
     "metadata": {},
     "output_type": "execute_result"
    }
   ],
   "source": [
    "# 3. Bob finds the secret key paired with that identifier, and deciphers Alice's cipher text with that secret key.\n",
    "decrypted = descryptMessage(secret)\n",
    "'Bob has decrypted the message and it was: \"{}\"'.format(str(decrypted, 'utf-8'))"
   ]
  },
  {
   "cell_type": "markdown",
   "metadata": {},
   "source": [
    "## References\n",
    "\n",
    "1. Wikipedia, \"Merkle's Puzzles\", https://en.wikipedia.org/wiki/Merkle%27s_Puzzles"
   ]
  }
 ],
 "metadata": {
  "kernelspec": {
   "display_name": "Python [default]",
   "language": "python",
   "name": "python3"
  },
  "language_info": {
   "codemirror_mode": {
    "name": "ipython",
    "version": 3
   },
   "file_extension": ".py",
   "mimetype": "text/x-python",
   "name": "python",
   "nbconvert_exporter": "python",
   "pygments_lexer": "ipython3",
   "version": "3.6.1"
  }
 },
 "nbformat": 4,
 "nbformat_minor": 2
}
